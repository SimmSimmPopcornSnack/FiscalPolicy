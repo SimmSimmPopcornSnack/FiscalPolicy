{
 "cells": [
  {
   "cell_type": "markdown",
   "id": "5ca4d78e-5765-4875-91e2-649f6f27bb52",
   "metadata": {
    "tags": []
   },
   "source": [
    "# Introduction"
   ]
  },
  {
   "cell_type": "code",
   "execution_count": 2,
   "id": "79eb1fe6-0b0b-414c-a870-46e159759181",
   "metadata": {},
   "outputs": [
    {
     "data": {
      "application/javascript": [
       "MathJax.Hub.Config({\n",
       "  TeX: { equationNumbers: { autoNumber: \"AMS\" } }\n",
       "});\n"
      ],
      "text/plain": [
       "<IPython.core.display.Javascript object>"
      ]
     },
     "metadata": {},
     "output_type": "display_data"
    }
   ],
   "source": [
    "%%javascript \n",
    "MathJax.Hub.Config({\n",
    "  TeX: { equationNumbers: { autoNumber: \"AMS\" } }\n",
    "});\n"
   ]
  },
  {
   "cell_type": "markdown",
   "id": "92a10804-8c0e-4515-8b3f-2a26a5a36701",
   "metadata": {},
   "source": [
    "# CLASSICAL MONETARY MODEL (古典モデル)"
   ]
  },
  {
   "cell_type": "markdown",
   "id": "61571b93-9754-4e34-9dad-bf740f266192",
   "metadata": {
    "tags": []
   },
   "source": [
    "Hypotheses:  \n",
    "- Perfect competition in goods & labour markets (商品・労働市場共に完全競争)  \n",
    "- Fully flexible prices in goods & labou (商品・労働市場共に完全な伸縮性価格)  \n",
    "additionally  \n",
    "- unique goods and investment instrument (単一の商品、単一の投資対象)\n",
    "  \n",
    "Role of money:  \n",
    "- ~Sec 2.4: just a unit of account (お金の単位に過ぎない)  \n",
    "- Sec 2.5~: affects a utility of household (家計の効用に影響)  "
   ]
  },
  {
   "cell_type": "markdown",
   "id": "345e762f-f04c-48f2-98e4-69e841d885b2",
   "metadata": {},
   "source": [
    "![ClassicalMonetaryModel](2-01_ClassicalModel.svg)  \n",
    "Schematic representation of Classical Monetary Model"
   ]
  },
  {
   "cell_type": "markdown",
   "id": "7978ea54-d990-4661-9e02-64bd6a8b0d70",
   "metadata": {},
   "source": [
    "## Households (家計)  "
   ]
  },
  {
   "cell_type": "markdown",
   "id": "b394d074-7378-4394-8dd4-34a2c841c386",
   "metadata": {},
   "source": [
    "Identical and many (同一の世帯が多数ある)"
   ]
  },
  {
   "cell_type": "markdown",
   "id": "51268e6b-b451-4aa0-b213-6770fc19944d",
   "metadata": {},
   "source": [
    "Utility function at t=0 (t=0での効用関数、家計はこの最大化を目指して行動する)"
   ]
  },
  {
   "cell_type": "markdown",
   "id": "9545351a-6cf9-46db-877c-ad3dce51aa2d",
   "metadata": {},
   "source": [
    "\\begin{equation} \n",
    "\\Upsilon_0 = \\mathbb{E}_0 \\left[\\sum^{\\infty}_{t=0}\\beta^{t} U(C_t, N_t; Z_t)\\right] \\label{utility_household}\n",
    "\\end{equation}"
   ]
  },
  {
   "cell_type": "markdown",
   "id": "943a8575-6382-41ce-8fa3-068fb6c1c513",
   "metadata": {},
   "source": [
    "where $\\Upsilon$ is upsilon (ウプシロン、Uに対応するギリシア文字)  \n",
    "- $C_t$: consumption of goods, all goods are identical (商品の消費数、全ての商品は同一とする)  \n",
    "- $N_t$: amount of work (working hours or the number of working persons) (労働の量、つまり労働時間または労働者の人数)  \n",
    "- $Z_t$: degree of preference of consumption and leisure(whole time-working hours) (消費と休暇(=全時間-労働時間)の選好度)  \n",
    "&nbsp;&nbsp;- $Z_t=0\\rightarrow$no desire of consumption or leisure(消費欲も休暇欲も無し)  \n",
    "&nbsp;&nbsp;- $Z_t=\\infty\\rightarrow$unlimited desire of consumption and leisure(消費欲も休暇欲も無限大)  \n",
    "- $\\beta$ $(=\\exp(-\\rho))$: discount factor (割引率)  \n",
    "&nbsp;- $\\rho$: constant risk-free rate (無リスク金利)  "
   ]
  },
  {
   "cell_type": "markdown",
   "id": "a299b730-7d34-451f-ab8a-b01d9c49ae31",
   "metadata": {},
   "source": [
    "***\n",
    "**Remark**: Discount factor (割引率)  \n",
    "Suppose you have $\\$1$ now. If you invest the $\\$1$ to a risk-free bond, you will have $\\$1 \\times (1+\\rho)$. Therefore,"
   ]
  },
  {
   "cell_type": "markdown",
   "id": "1514309c-c690-437e-ae59-71f6ac94415c",
   "metadata": {},
   "source": [
    "\\begin{equation} \n",
    "\\left[\\$1@(t=0) \\right] = \\left[\\$(1+\\rho)@(t=1) \\right] \n",
    "\\label{DF}\n",
    "\\end{equation} "
   ]
  },
  {
   "cell_type": "markdown",
   "id": "138505b8-59ca-4eea-89d0-3b89827598c2",
   "metadata": {},
   "source": []
  }
 ],
 "metadata": {
  "authors": [
   {
    "name": "SimmSimm"
   }
  ],
  "citation-manager": {
   "items": {}
  },
  "kernelspec": {
   "display_name": "Python 3 (ipykernel)",
   "language": "python",
   "name": "python3"
  },
  "language_info": {
   "codemirror_mode": {
    "name": "ipython",
    "version": 3
   },
   "file_extension": ".py",
   "mimetype": "text/x-python",
   "name": "python",
   "nbconvert_exporter": "python",
   "pygments_lexer": "ipython3",
   "version": "3.8.12"
  },
  "title": "Study Note of \"Monetary Policy, Inflation, and the Business Cycle: An Introduction to the New Keynesian Framework and Its Applications by Jordi Gali\""
 },
 "nbformat": 4,
 "nbformat_minor": 5
}
