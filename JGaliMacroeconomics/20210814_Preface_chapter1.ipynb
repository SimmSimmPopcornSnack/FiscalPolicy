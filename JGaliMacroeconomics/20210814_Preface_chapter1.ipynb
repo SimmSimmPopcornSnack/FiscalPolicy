{
 "cells": [
  {
   "cell_type": "markdown",
   "id": "5ca4d78e-5765-4875-91e2-649f6f27bb52",
   "metadata": {
    "tags": []
   },
   "source": [
    "# Preface {-}"
   ]
  },
  {
   "cell_type": "markdown",
   "id": "61571b93-9754-4e34-9dad-bf740f266192",
   "metadata": {
    "tags": []
   },
   "source": [
    "Objective: Analysis of monetary policy and its implications for  \n",
    "(目的：金融政策そのものと以下への影響の解析)\n",
    "  \n",
    "- Inflation (インフレーション)\n",
    "- Economic fluctuations (景気変動)\n",
    "- Welfare (福祉)\n",
    "\n",
    "$\\rightarrow$\n",
    "  \n",
    "- Middle-scale models used at central banks (FRB, ECB, ...etc) (中央銀行が使うような中規模のモデル)\n",
    "- Theoretical foundation of strategy for inflation stability (物価安定の方策の理論的基礎付け) \n",
    "\n",
    "**basic New Keynesian model as a reference (Chap 3、ニュー・ケインジアンモデル)**\n",
    "  \n",
    "- Goods market (製品市場): monopolistic competition (独占的競争市場): 似ているが同一ではない製品を売る多数の企業が競争。顧客層も微妙に異なる。独占と完全競争の間\n",
    "- Goods price (製品価格): staggered price setting (非同期的な価格設定): price changes at a probability $h$ in unit time (Calvo model、価格変化に時間的遅れがある) \n",
    "- Labour market (労働市場): perfect competition (完全競争): 労働力の多数の売り手・買い手、完全情報の仮定(売り手も買い手も過去の情報を全て知っている)\n",
    "  \n",
    "**Classical model (Chap 2): 古典派モデル、上記の特殊な例**\n",
    "  \n",
    "- Goods market (製品市場): perfect competition (完全競争): no monopolisticity、同一の製品を売る多数の企業が競争\n",
    "- Goods price (製品価格): flexible (伸縮性価格): 需要・供給のみで即座に決まる価格 ($h\\rightarrow \\infty$)\n",
    "- Labour market (労働市場): perfect competition (完全競争): 労働力の多数の売り手・買い手、完全情報の仮定(売り手も買い手も過去の情報を全て知っている)\n",
    "\n",
    "**Implications of monetary policy under new Keynesian model (Chap 4、ニューケインジアンモデル下での、金融政策の影響)**\n",
    "\n",
    "Following chapters are extensions of the new Keynesian model(以降の章は各論)\n",
    "  \n",
    "* **Policy with/without commitment (Chap 5、約束の有無による政策の違い)**\n",
    "* **Wage rigidity in labour market (Chap 6-7、賃金の変わりにくさの影響)**\n",
    "* **Open economy (effect of foreign countries, Chap 8、外国の経済の影響)**\n",
    "* **Other models and references (Chap 9、他のモデルとそれら文献)**"
   ]
  },
  {
   "cell_type": "markdown",
   "id": "f25bb375-7e08-45d7-8fe5-2550bb1a6654",
   "metadata": {},
   "source": [
    "# Introduction"
   ]
  },
  {
   "cell_type": "markdown",
   "id": "8e86d767-3ee5-4c6b-9b88-ff29905bec4f",
   "metadata": {},
   "source": [
    "Monetary policy $\\rightarrow$ applied to market economy $\\rightarrow$ target result \n",
    "(金融政策 $\\rightarrow$ 市場経済に働きかけ $\\rightarrow$ (目標とする)結果) \n",
    "\n",
    "- How market economy reacts? Mechanism? (上記のメカニズムはどうなってるか？)\n",
    "- What result to target? (どのような結果を目的とするか？)\n",
    "\n",
    "Basic model: RBC (Real Business Cycle) model (リアルビジネスサイクル(RBC)理論から始める) "
   ]
  },
  {
   "cell_type": "markdown",
   "id": "12658611-4953-4406-9091-f84c5398dcb9",
   "metadata": {},
   "source": [
    "## Background: Real Business Cycle Theory and Classical Monetary model (背景：RBC理論と古典派モデル)"
   ]
  },
  {
   "cell_type": "markdown",
   "id": "056de087-a5e9-4f43-8f92-8c7baf741dc0",
   "metadata": {},
   "source": [
    "1982, 1986 $\\rightarrow$ RBC: $\\rightarrow$ core of macroeconomics for economic fluctuation (景気変動を解析するマクロ経済学の中心になった)  \n",
    "**Methodology(方法論)**: DSGE(動学的確率的一般均衡): intertemporal equation of households and firms (家計と企業の時間発展方程式) $\\rightarrow$ 期待値の理論づけ  \n",
    "**Issues in concept(概念的な問題点)**:  \n",
    "  \n",
    "- Efficiency of business cycle (ビジネスサイクルの効率性)\n",
    " Developed economy is a movement to the equilibrium from external force (tech advancement(more generally, change of productivity))  \n",
    "(先進国の経済活動は、外力(技術革新(生産性の変化) etc)から均衡化する動き)  \n",
    " $\\leftarrow$ 仮定:    \n",
    "  - perfect competition (完全競争)\n",
    "  - frictionless market (完全な証券市場、全投資家は合理的)\n",
    "  \n",
    "$\\rightarrow$ Cyclical fluctuation is optimal under RBC model and does not mean inefficient source distribution  \n",
    "(周期的変動は、RBCモデル下での最適な動きであり、資源の配分非効率を意味しない)  \n",
    "$\\Rightarrow$ policy for stability is not optimal, opposing to Keynesian (安定化させる政策は必ずしも最適でない。)  \n",
    "$\\leftrightarrow$ 不景気は資源の非効率であり、その非効率を取り除くケインズの考え方と異なる結果  \n",
    "($\\rightarrow$消費喚起の政策も良くない)  \n",
    "- Tech advancement $\\rightarrow$ economic fluctuation (技術革新$\\rightarrow$景気変動をもたらす)  \n",
    "- No monetary factor (貨幣のファクターが無い) \n",
    "$\\rightarrow$ RBC model was not rarely used for policy making or in central banks (RBCモデルは中央銀行や政策には殆ど使われなかった)  \n",
    "\n",
    "$\\Rightarrow$ Classical model (古典派モデル、1989): introducing financial sectors (金融セクターを入れる)  \n",
    "But monetary policy has only neutral effects on economy (しかし金融政策は中立な効果しかない)  \n",
    "$\\leftrightarrow$ contradicts the reality (既知の事実に反する)  \n",
    "$\\rightarrow$ improve classical RBC model (classicalなRBCモデルを改良)"
   ]
  },
  {
   "cell_type": "markdown",
   "id": "e2789f94-1b6e-4d20-9357-b15aa759c1e0",
   "metadata": {},
   "source": [
    "## New Keynesian Model (ニューケインジアンモデル)"
   ]
  },
  {
   "cell_type": "markdown",
   "id": "8b06c484-8e02-41e8-b08f-2e605610fe75",
   "metadata": {},
   "source": [
    "**Common features with classical model (Classical modelとの共通点)**  \n",
    "\n",
    "- Perpetual households maximising their utilities under a budget constraint on consumption and leisure($\\rightarrow$less working hours) (永続的な家計。消費と娯楽($=$労働時間を少なさで表す)を含む、過去からの予算制約。その予算制約の範囲内で効用を最大化する)  \n",
    "- Many firms using the same technology (同一の技術を使える多くの企業)\n",
    "- Equilibrium is described with stochastic process (均衡状態は確率過程で表される)  \n",
    "  \n",
    "**Differences(相違点)**  \n",
    "  \n",
    "- Monopolistic competition in goods market (企業は製品市場で独占的競争)  \n",
    "Firms maximise their own profit (自己の利益の最大化)\n",
    "- Nominal rigidity (名目硬直性): price/wage stickiness(製品の名目価格・名目賃金の変動頻度に制限有り)\n",
    "- Short-run non-neutrality of monetary policy(金融政策の短期的な非中立性): nominal rigidity$\\rightarrow$late outcome from monetary policy (名目価格の硬直性によって、金融政策の効果が表れるには時間がかかる)  \n",
    "  \n",
    "$\\Rightarrow$Dynamic optimisation each on household and firm considering the above factors (これらの要素を取り入れて家計と会社がそれぞれ動的最適化する。)  \n",
    "Results(結果): \n",
    "  \n",
    "- Inefficient reaction upon economic shocks(経済のショックに対する反応は非効率的)\n",
    "- price rigidity$\\rightarrow$delayed effect from monetary policy$\\rightarrow$welfare to minimise the distortion due to the delayed effect (価格硬直性$\\rightarrow$金融政策の効果は遅れて現れる$\\rightarrow$遅れによる歪みを埋める手段としての福祉)\n",
    "$\\rightarrow$ the models may enable analysis avoiding Lucas critique (ルーカス批判に晒されないモデルを用いた解析が可能になる)  \n",
    "\n",
    "*Lucas critique(ルーカス批判)*  \n",
    "Do not use empirical laws of macroeconomics for policy (マクロ経済の現象論的法則を政策に使ってはいけない)  \n",
    "Empirical law (過去の経済変数間の経験のみに基づいた成立理由の分からない法則): may change if we use a different monetary policy (今までと異なる金融政策を使えば、法則そのものが変わるかもしれない)  \n",
    "Do not use such a law (従って使ってはいけない)  \n",
    "\n"
   ]
  },
  {
   "cell_type": "markdown",
   "id": "6a2b5b46-5069-4be8-9570-84b53af13f49",
   "metadata": {},
   "source": [
    "### Evidence of Nominal Rigidity & Monetary Policy Non-Neutrality (名目硬直性と金融政策非中立性の証拠)"
   ]
  },
  {
   "cell_type": "markdown",
   "id": "554d2d9f-3fe0-495c-817a-2e73569bb0dc",
   "metadata": {},
   "source": [
    "#### Evidence of Nominal Rigidity (名目硬直性の証拠)"
   ]
  },
  {
   "cell_type": "markdown",
   "id": "7954c879-1e64-479f-b457-b1a570c5d67d",
   "metadata": {},
   "source": [
    "- Goods price(製品価格):  \n",
    "micro data$\\rightarrow$period of price update is 0.5~1 years (ミクロデータ$\\rightarrow$価格改定の期間は半年～1年程度)  \n",
    "Large heterogeneity (大きな不均一性)  \n",
    "  * service(サービス): high rigidity (変化しにくい)\n",
    "  * raw food, energy(生鮮食品、エネルギー): low rigidity (変化しやすい)  \n",
    "- Wage(賃金):  ~ 1 years, rare chance of decrease(～1年、低下は稀)"
   ]
  },
  {
   "cell_type": "markdown",
   "id": "424ce1f6-5e9d-4532-b71a-77b862982085",
   "metadata": {
    "tags": []
   },
   "source": [
    "#### Evidence of Monetary Policy Non-Neutrality (金融政策非中立性の証拠)  "
   ]
  },
  {
   "cell_type": "markdown",
   "id": "7545cdf4-fb4f-4410-81b9-1343c133f5e8",
   "metadata": {
    "tags": []
   },
   "source": [
    "　  \n",
    "A natural consequence form price rigidity (名目硬直性から導かれる):  \n",
    " if \\[price\\] $\\not \\propto$ \\[money supply\\] ($\\rightarrow$ change in real money balance), or  \n",
    " if expected inflation does not change when nominal IR changes ($\\rightarrow$ real IR changes),  \n",
    "a central bank can change aggregate demand thus equilibrium level  \n",
    "(もし、\\[price\\] $\\not \\propto$ \\[money supply\\] ($\\rightarrow$ 実質貨幣量が変わる)、または、  \n",
    "もし、名目金利が不変なのに期待インフレ率が不変 ($\\rightarrow$実質金利が変化)ならば、  \n",
    "中央銀行は総需要のレベル、ひいては経済の均衡状態を変えられる(？))  \n",
    "  \n",
    "But difficult to identify the effect of monetary policy.  \n",
    "Instrument of monetary policy (eg. short-term IR) and economy affect each other  \n",
    "$\\rightarrow$ ~~simple correlation of short-term IR and economic output~~   \n",
    "  \n",
    "To separate exogenous IR change and endogenous IR change (natural response of the central bank to other variables), use time series analysis  \n",
    "  \n",
    "(しかし金融政策の効果の実証は難しい。  \n",
    "金融政策で変える指数(短期金利など)と経済のアウトプットの変数は相互作用している。  \n",
    "$\\rightarrow$ ~~単純な短期金利と経済のアウトプットの相関係数~~  \n",
    "  \n",
    "内的な金利変化(=経済変数に中銀が日常的に反応した寄与)と、中銀が新たに外的に動かした金利変化を分離するために、時系列解析を使う)  \n"
   ]
  },
  {
   "cell_type": "markdown",
   "id": "ef324344-5239-47eb-8a13-82c04296cdbb",
   "metadata": {
    "citation-manager": {
     "citations": {
      "0a14c": [
       {
        "id": "11205596/4VZTFCYI",
        "source": "zotero"
       }
      ]
     }
    },
    "tags": []
   },
   "source": [
    "**Result** <cite id=\"0a14c\">(Christiano et al., 1998)</cite>  "
   ]
  },
  {
   "cell_type": "markdown",
   "id": "7d8aa355-3b87-467f-99b1-a40808ae0819",
   "metadata": {
    "citation-manager": {
     "citations": {
      "xvmy7": [
       {
        "id": "11205596/4VZTFCYI",
        "source": "zotero"
       }
      ],
      "zbzri": [
       {
        "id": "11205596/4VZTFCYI",
        "source": "zotero"
       }
      ]
     }
    },
    "tags": []
   },
   "source": [
    "Effect of monetary tightening based on Mar 1965 to Feb 1995 data in US.\n",
    "The following results are the impacts on economic variables, FF rate (this is also an instrument of monetary policy though), GDP, GDP deflator, M2 (money stock), taken from Figure 2 of <cite id=\"xvmy7\">(Christiano et al., 1998)</cite> The horizontal axis is the number of quarters after the change of monetary policy.  \n",
    "(1965年3月～1995年2月のアメリカのデータに基づく、金融引き締めの影響。以下の図は、FF金利(短期金利、これ自体は金融政策の変数だが)、GDP、GDPデフレーター、M2(マネーストック)のグラフ。文献<cite id=\"zbzri\">(Christiano et al., 1998)</cite>の図2からとった。横軸の数字は一目盛りで3ヶ月に対応。)"
   ]
  },
  {
   "cell_type": "markdown",
   "id": "859c3a5c-7321-4f61-840e-ebfce663574d",
   "metadata": {},
   "source": [
    "![Impact on FF rate](20210814_Christiano1999Fig2_MpToFF.png)  \n",
    "![Impact on FF rate](20210814_Christiano1999Fig2_MpToGDP.png)  \n",
    "![Impact on FF rate](20210814_Christiano1999Fig2_MpToGDPDeflator.png)  \n",
    "![Impact on FF rate](20210814_Christiano1999Fig2_MpToM2.png)"
   ]
  },
  {
   "cell_type": "markdown",
   "id": "e43060a5-3e58-4f91-ab52-612a083f10bb",
   "metadata": {},
   "source": [
    "- FF rate (an instrument of monetary policy、短期金利): spontaneous response, monetary policy itself (金融政策の変化と同時に変化、というかこの場合短期金利が金融政策そのものなので)\n",
    "  \n",
    "Non-neutrality:  \n",
    "- GDP: delayed impact, overshoot (遅れてオーバーシュート)  \n",
    "- GDP deflator: delayed impact (影響は遅れる)  \n",
    "- M2: spontaneous decrease (同時に下がる)\n",
    "  \n",
    "$\\Rightarrow$non-neutrality certainly exists (確かに金融政策に対して非中立)"
   ]
  },
  {
   "cell_type": "markdown",
   "id": "40b8b219-a046-4f8f-b0fd-8f943cfa5e50",
   "metadata": {
    "tags": []
   },
   "source": [
    "**Methodology**   \n",
    "- Estimating input monetary shock(入力となる金融政策の変化を見積もる)  \n",
    "Prepare a time series of an instrument of monetary policy (eg. short-term IR), conduct a regression analysis using an ordinary least square technique (金融政策で変える指数(短期金利など)の時系列を用意し、回帰分析を行う)  \n",
    "$$S_t=f(\\pmb{\\Omega}_t)+\\epsilon^S_t$$  \n",
    "where  \n",
    "  - $S_t$: an instrument of monetary policy at t(金融政策に対応する指数の時刻tでの値)  \n",
    "  - $\\pmb{\\Omega}_t$: an economic variable vector (current and lagged GDPs(現在のGDPと一期遅れたGDP), price, inflation, money quantitly...、経済を表す変数のベクトル)  \n",
    "  - $f$: effect from economic variables on the instrument of monetary policy, implied from historical regression (経済変数が金融政策の変化を表す変数に与える影響。過去データから回帰して求める)  \n",
    "  - $\\sigma_S$: standard deviation of regression residual (回帰したときの残差)  \n",
    "  - $\\epsilon^S_t$: random noise, $Var(\\epsilon^S_t)=1$ (規格化されたランダムノイズ)  \n",
    "  - $\\sigma_S\\epsilon^S_t$:regression residual$\\rightarrow$**interpret it as a monetary policy shock** (回帰残差$\\rightarrow$**これを金融政策の変化と解釈する**)  "
   ]
  },
  {
   "cell_type": "markdown",
   "id": "62e4d6b1-1fef-4001-8c18-0acc519ada9d",
   "metadata": {},
   "source": [
    "![Estimation of money policy shock](20210814_OlsEstimateMonetaryPolicyShock_arrow.png)"
   ]
  },
  {
   "cell_type": "markdown",
   "id": "fd2cfccf-45d6-4f4c-84be-ff7dceb4e5f5",
   "metadata": {},
   "source": [
    "- Estimating economic output(出力となる経済指標の変化を見積もる)  \n",
    "Prepare a time series of economic output (eg. GDP, inflation), conduct auto-regressive analysis  (経済を表す変数(GDPやインフレ率など)の時系列を用意し、自己回帰分析を行う)  \n",
    "$${\\pmb Z}_t={\\pmb B}_1 {\\pmb Z}_{t-1}+{\\pmb B}_2 {\\pmb Z}_{t-2}+...+{\\pmb B}_q {\\pmb Z}_{t-q}+{\\pmb  \\epsilon}_t$$\n",
    "where  \n",
    "  - ${\\pmb Z}_t$: a vector of economic output at t (時刻tにおける、経済を表す指標のベクトル)\n",
    "  - ${\\pmb B}_p \\,(p=1,...,q)$: coefficient matrices (係数行列)\n",
    "  - ${\\pmb \\epsilon}_t$: a residual vector$\\rightarrow$**interpret it as an economic outcome change** (残差行列$\\rightarrow$**これを経済を表す変数の変化と解釈する**)  \n",
    "\n",
    "$\\Rightarrow$Analyse a monetary policy shock and a change of economic output (金融政策の変化と経済を表す指標の変化の関係を見る)"
   ]
  },
  {
   "cell_type": "markdown",
   "id": "6c3504f1-036c-44a9-a125-c7cba90c909f",
   "metadata": {},
   "source": [
    "## Bibliography"
   ]
  },
  {
   "cell_type": "markdown",
   "id": "adf924ee-ddf3-476a-b1dd-c31948772d9f",
   "metadata": {},
   "source": [
    "<!-- BIBLIOGRAPHY START -->\n",
    "<div class=\"csl-bib-body\">\n",
    "  <div class=\"csl-entry\">Christiano, L., Eichenbaum, M. S., &#38; Evans, C. (1998). <i>Monetary policy shocks: what have we learned and to what end?</i> National bureau of economic research Cambridge, Mass., USA. https://faculty.wcas.northwestern.edu/~lchrist/course/Korea_2016/cee_handbook.pdf</div>\n",
    "\n",
    "</div>\n",
    "<!-- BIBLIOGRAPHY END -->"
   ]
  }
 ],
 "metadata": {
  "authors": [
   {
    "name": "SimmSimm"
   }
  ],
  "citation-manager": {
   "items": {
    "zotero": {
     "11205596/4VZTFCYI": {
      "URL": "https://faculty.wcas.northwestern.edu/~lchrist/course/Korea_2016/cee_handbook.pdf",
      "author": [
       {
        "family": "Christiano",
        "given": "Lawrence"
       },
       {
        "family": "Eichenbaum",
        "given": "Martin S."
       },
       {
        "family": "Evans",
        "given": "Charles"
       }
      ],
      "id": "11205596/4VZTFCYI",
      "issued": {
       "date-parts": [
        [
         1998
        ]
       ]
      },
      "publisher": "National bureau of economic research Cambridge, Mass., USA",
      "title": "Monetary policy shocks: what have we learned and to what end?",
      "type": "book"
     }
    }
   }
  },
  "kernelspec": {
   "display_name": "Python 3",
   "language": "python",
   "name": "python3"
  },
  "language_info": {
   "codemirror_mode": {
    "name": "ipython",
    "version": 3
   },
   "file_extension": ".py",
   "mimetype": "text/x-python",
   "name": "python",
   "nbconvert_exporter": "python",
   "pygments_lexer": "ipython3",
   "version": "3.8.8"
  },
  "title": "Study Note of \"Monetary Policy, Inflation, and the Business Cycle: An Introduction to the New Keynesian Framework and Its Applications by Jordi Gali\""
 },
 "nbformat": 4,
 "nbformat_minor": 5
}
