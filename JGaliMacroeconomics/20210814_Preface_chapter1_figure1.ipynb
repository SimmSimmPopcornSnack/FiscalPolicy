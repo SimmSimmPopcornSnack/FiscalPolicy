{
 "cells": [
  {
   "cell_type": "code",
   "execution_count": 5,
   "id": "59cc83a3-3b92-43dc-9836-55d1715532cc",
   "metadata": {},
   "outputs": [
    {
     "data": {
      "application/vnd.jupyter.widget-view+json": {
       "model_id": "ea0c6c7ba2c54cc7b7ee1bb78cfc8efb",
       "version_major": 2,
       "version_minor": 0
      },
      "text/plain": [
       "Canvas(toolbar=Toolbar(toolitems=[('Home', 'Reset original view', 'home', 'home'), ('Back', 'Back to previous …"
      ]
     },
     "metadata": {},
     "output_type": "display_data"
    }
   ],
   "source": [
    "# need to uncomment to display a chart\n",
    "%matplotlib widget\n",
    "\n",
    "import numpy as np\n",
    "from scipy.stats import norm\n",
    "import matplotlib.pyplot as plt\n",
    "\n",
    "n = 100\n",
    "rho = 0.8\n",
    "s = 0.1\n",
    "x = norm.ppf(np.random.rand(n))\n",
    "y0 = norm.ppf(np.random.rand(n))\n",
    "e = norm.ppf(np.random.rand(n))\n",
    "y = rho*x+np.sqrt(1.-rho**2)*y0 + s*e\n",
    "\n",
    "plt.scatter(x, y)\n",
    "plt.xlabel(\"x(economic variable、経済変数)\")\n",
    "plt.ylabel(\"y(instrument of monetary policy、金融政策を表す変数)\")\n",
    "\n",
    "m, b = np.polyfit(x, y, 1)\n",
    "plt.plot(x, m*x + b, color = \"black\")\n",
    "plt.title(\"Estimating monetary policy shock for a single economic variable \\n(金融政策の変化の推定、経済変数が一つの場合)\")\n",
    "# comment out only if you want to save the chart\n",
    "#plt.savefig(\"20210814_OlsEstimateMonetaryPolicyShock.png\")"
   ]
  },
  {
   "cell_type": "markdown",
   "id": "f315b176-9f84-4541-8b61-b0005c9bdd5e",
   "metadata": {},
   "source": []
  }
 ],
 "metadata": {
  "citation-manager": {
   "items": {}
  },
  "kernelspec": {
   "display_name": "Python 3",
   "language": "python",
   "name": "python3"
  },
  "language_info": {
   "codemirror_mode": {
    "name": "ipython",
    "version": 3
   },
   "file_extension": ".py",
   "mimetype": "text/x-python",
   "name": "python",
   "nbconvert_exporter": "python",
   "pygments_lexer": "ipython3",
   "version": "3.8.8"
  }
 },
 "nbformat": 4,
 "nbformat_minor": 5
}
